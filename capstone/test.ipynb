{
 "cells": [
  {
   "cell_type": "code",
   "execution_count": 1,
   "metadata": {},
   "outputs": [],
   "source": [
    "import pandas as pd\n",
    "import json"
   ]
  },
  {
   "cell_type": "code",
   "execution_count": 2,
   "metadata": {},
   "outputs": [],
   "source": [
    "# JSON proporcionado\n",
    "json_data = \"\"\"\n",
    "{\"last_updated\":1741308970,\"ttl\":2,\"data\":\n",
    "{\"stations\":[\n",
    "{\"station_id\":\"1\",\"num_bikes_available\":23,\"num_bikes_disabled\":1,\"num_docks_available\":15,\"num_docks_disabled\":0,\"is_installed\":1,\"is_renting\":1,\"is_returning\":1,\"last_reported\":1741308294,\"eightd_has_available_keys\":false,\"is_charging\":false},\n",
    "{\"station_id\":\"5\",\"num_bikes_available\":2,\"num_bikes_disabled\":1,\"num_docks_available\":16,\"num_docks_disabled\":0,\"is_installed\":1,\"is_renting\":1,\"is_returning\":1,\"last_reported\":1741306719,\"eightd_has_available_keys\":false,\"is_charging\":false},\n",
    "{\"station_id\":\"6\",\"num_bikes_available\":1,\"num_bikes_disabled\":2,\"num_docks_available\":24,\"num_docks_disabled\":0,\"is_installed\":1,\"is_renting\":1,\"is_returning\":1,\"last_reported\":1741308614,\"eightd_has_available_keys\":false,\"is_charging\":false},\n",
    "{\"station_id\":\"7\",\"num_bikes_available\":3,\"num_bikes_disabled\":0,\"num_docks_available\":16,\"num_docks_disabled\":0,\"is_installed\":1,\"is_renting\":1,\"is_returning\":1,\"last_reported\":1741308676,\"eightd_has_available_keys\":false,\"is_charging\":false},\n",
    "{\"station_id\":\"711\",\"num_bikes_available\":0,\"num_bikes_disabled\":0,\"num_docks_available\":0,\"num_docks_disabled\":0,\"is_installed\":0,\"is_renting\":1,\"is_returning\":1,\"last_reported\":86400,\"eightd_has_available_keys\":false,\"is_charging\":false}\n",
    "]}}\n",
    "\"\"\""
   ]
  },
  {
   "cell_type": "code",
   "execution_count": 3,
   "metadata": {},
   "outputs": [],
   "source": [
    "# Cargar el JSON como diccionario\n",
    "data_dict = json.loads(json_data)"
   ]
  },
  {
   "cell_type": "code",
   "execution_count": 4,
   "metadata": {},
   "outputs": [
    {
     "data": {
      "text/plain": [
       "{'last_updated': 1741308970,\n",
       " 'ttl': 2,\n",
       " 'data': {'stations': [{'station_id': '1',\n",
       "    'num_bikes_available': 23,\n",
       "    'num_bikes_disabled': 1,\n",
       "    'num_docks_available': 15,\n",
       "    'num_docks_disabled': 0,\n",
       "    'is_installed': 1,\n",
       "    'is_renting': 1,\n",
       "    'is_returning': 1,\n",
       "    'last_reported': 1741308294,\n",
       "    'eightd_has_available_keys': False,\n",
       "    'is_charging': False},\n",
       "   {'station_id': '5',\n",
       "    'num_bikes_available': 2,\n",
       "    'num_bikes_disabled': 1,\n",
       "    'num_docks_available': 16,\n",
       "    'num_docks_disabled': 0,\n",
       "    'is_installed': 1,\n",
       "    'is_renting': 1,\n",
       "    'is_returning': 1,\n",
       "    'last_reported': 1741306719,\n",
       "    'eightd_has_available_keys': False,\n",
       "    'is_charging': False},\n",
       "   {'station_id': '6',\n",
       "    'num_bikes_available': 1,\n",
       "    'num_bikes_disabled': 2,\n",
       "    'num_docks_available': 24,\n",
       "    'num_docks_disabled': 0,\n",
       "    'is_installed': 1,\n",
       "    'is_renting': 1,\n",
       "    'is_returning': 1,\n",
       "    'last_reported': 1741308614,\n",
       "    'eightd_has_available_keys': False,\n",
       "    'is_charging': False},\n",
       "   {'station_id': '7',\n",
       "    'num_bikes_available': 3,\n",
       "    'num_bikes_disabled': 0,\n",
       "    'num_docks_available': 16,\n",
       "    'num_docks_disabled': 0,\n",
       "    'is_installed': 1,\n",
       "    'is_renting': 1,\n",
       "    'is_returning': 1,\n",
       "    'last_reported': 1741308676,\n",
       "    'eightd_has_available_keys': False,\n",
       "    'is_charging': False},\n",
       "   {'station_id': '711',\n",
       "    'num_bikes_available': 0,\n",
       "    'num_bikes_disabled': 0,\n",
       "    'num_docks_available': 0,\n",
       "    'num_docks_disabled': 0,\n",
       "    'is_installed': 0,\n",
       "    'is_renting': 1,\n",
       "    'is_returning': 1,\n",
       "    'last_reported': 86400,\n",
       "    'eightd_has_available_keys': False,\n",
       "    'is_charging': False}]}}"
      ]
     },
     "execution_count": 4,
     "metadata": {},
     "output_type": "execute_result"
    }
   ],
   "source": [
    "data_dict"
   ]
  },
  {
   "cell_type": "code",
   "execution_count": 5,
   "metadata": {},
   "outputs": [
    {
     "data": {
      "text/plain": [
       "{'stations': [{'station_id': '1',\n",
       "   'num_bikes_available': 23,\n",
       "   'num_bikes_disabled': 1,\n",
       "   'num_docks_available': 15,\n",
       "   'num_docks_disabled': 0,\n",
       "   'is_installed': 1,\n",
       "   'is_renting': 1,\n",
       "   'is_returning': 1,\n",
       "   'last_reported': 1741308294,\n",
       "   'eightd_has_available_keys': False,\n",
       "   'is_charging': False},\n",
       "  {'station_id': '5',\n",
       "   'num_bikes_available': 2,\n",
       "   'num_bikes_disabled': 1,\n",
       "   'num_docks_available': 16,\n",
       "   'num_docks_disabled': 0,\n",
       "   'is_installed': 1,\n",
       "   'is_renting': 1,\n",
       "   'is_returning': 1,\n",
       "   'last_reported': 1741306719,\n",
       "   'eightd_has_available_keys': False,\n",
       "   'is_charging': False},\n",
       "  {'station_id': '6',\n",
       "   'num_bikes_available': 1,\n",
       "   'num_bikes_disabled': 2,\n",
       "   'num_docks_available': 24,\n",
       "   'num_docks_disabled': 0,\n",
       "   'is_installed': 1,\n",
       "   'is_renting': 1,\n",
       "   'is_returning': 1,\n",
       "   'last_reported': 1741308614,\n",
       "   'eightd_has_available_keys': False,\n",
       "   'is_charging': False},\n",
       "  {'station_id': '7',\n",
       "   'num_bikes_available': 3,\n",
       "   'num_bikes_disabled': 0,\n",
       "   'num_docks_available': 16,\n",
       "   'num_docks_disabled': 0,\n",
       "   'is_installed': 1,\n",
       "   'is_renting': 1,\n",
       "   'is_returning': 1,\n",
       "   'last_reported': 1741308676,\n",
       "   'eightd_has_available_keys': False,\n",
       "   'is_charging': False},\n",
       "  {'station_id': '711',\n",
       "   'num_bikes_available': 0,\n",
       "   'num_bikes_disabled': 0,\n",
       "   'num_docks_available': 0,\n",
       "   'num_docks_disabled': 0,\n",
       "   'is_installed': 0,\n",
       "   'is_renting': 1,\n",
       "   'is_returning': 1,\n",
       "   'last_reported': 86400,\n",
       "   'eightd_has_available_keys': False,\n",
       "   'is_charging': False}]}"
      ]
     },
     "execution_count": 5,
     "metadata": {},
     "output_type": "execute_result"
    }
   ],
   "source": [
    "data_dict[\"data\"]"
   ]
  },
  {
   "cell_type": "code",
   "execution_count": 6,
   "metadata": {},
   "outputs": [],
   "source": [
    "# Extraer la lista de estaciones\n",
    "stations_data = data_dict[\"data\"][\"stations\"]"
   ]
  },
  {
   "cell_type": "code",
   "execution_count": 7,
   "metadata": {},
   "outputs": [
    {
     "data": {
      "text/plain": [
       "[{'station_id': '1',\n",
       "  'num_bikes_available': 23,\n",
       "  'num_bikes_disabled': 1,\n",
       "  'num_docks_available': 15,\n",
       "  'num_docks_disabled': 0,\n",
       "  'is_installed': 1,\n",
       "  'is_renting': 1,\n",
       "  'is_returning': 1,\n",
       "  'last_reported': 1741308294,\n",
       "  'eightd_has_available_keys': False,\n",
       "  'is_charging': False},\n",
       " {'station_id': '5',\n",
       "  'num_bikes_available': 2,\n",
       "  'num_bikes_disabled': 1,\n",
       "  'num_docks_available': 16,\n",
       "  'num_docks_disabled': 0,\n",
       "  'is_installed': 1,\n",
       "  'is_renting': 1,\n",
       "  'is_returning': 1,\n",
       "  'last_reported': 1741306719,\n",
       "  'eightd_has_available_keys': False,\n",
       "  'is_charging': False},\n",
       " {'station_id': '6',\n",
       "  'num_bikes_available': 1,\n",
       "  'num_bikes_disabled': 2,\n",
       "  'num_docks_available': 24,\n",
       "  'num_docks_disabled': 0,\n",
       "  'is_installed': 1,\n",
       "  'is_renting': 1,\n",
       "  'is_returning': 1,\n",
       "  'last_reported': 1741308614,\n",
       "  'eightd_has_available_keys': False,\n",
       "  'is_charging': False},\n",
       " {'station_id': '7',\n",
       "  'num_bikes_available': 3,\n",
       "  'num_bikes_disabled': 0,\n",
       "  'num_docks_available': 16,\n",
       "  'num_docks_disabled': 0,\n",
       "  'is_installed': 1,\n",
       "  'is_renting': 1,\n",
       "  'is_returning': 1,\n",
       "  'last_reported': 1741308676,\n",
       "  'eightd_has_available_keys': False,\n",
       "  'is_charging': False},\n",
       " {'station_id': '711',\n",
       "  'num_bikes_available': 0,\n",
       "  'num_bikes_disabled': 0,\n",
       "  'num_docks_available': 0,\n",
       "  'num_docks_disabled': 0,\n",
       "  'is_installed': 0,\n",
       "  'is_renting': 1,\n",
       "  'is_returning': 1,\n",
       "  'last_reported': 86400,\n",
       "  'eightd_has_available_keys': False,\n",
       "  'is_charging': False}]"
      ]
     },
     "execution_count": 7,
     "metadata": {},
     "output_type": "execute_result"
    }
   ],
   "source": [
    "stations_data"
   ]
  },
  {
   "cell_type": "code",
   "execution_count": 8,
   "metadata": {},
   "outputs": [],
   "source": [
    "# Convertir a DataFrame\n",
    "df = pd.DataFrame(stations_data)"
   ]
  },
  {
   "cell_type": "code",
   "execution_count": 10,
   "metadata": {},
   "outputs": [
    {
     "data": {
      "text/html": [
       "<div>\n",
       "<style scoped>\n",
       "    .dataframe tbody tr th:only-of-type {\n",
       "        vertical-align: middle;\n",
       "    }\n",
       "\n",
       "    .dataframe tbody tr th {\n",
       "        vertical-align: top;\n",
       "    }\n",
       "\n",
       "    .dataframe thead th {\n",
       "        text-align: right;\n",
       "    }\n",
       "</style>\n",
       "<table border=\"1\" class=\"dataframe\">\n",
       "  <thead>\n",
       "    <tr style=\"text-align: right;\">\n",
       "      <th></th>\n",
       "      <th>station_id</th>\n",
       "      <th>num_bikes_available</th>\n",
       "      <th>num_bikes_disabled</th>\n",
       "      <th>num_docks_available</th>\n",
       "      <th>num_docks_disabled</th>\n",
       "      <th>is_installed</th>\n",
       "      <th>is_renting</th>\n",
       "      <th>is_returning</th>\n",
       "      <th>last_reported</th>\n",
       "      <th>eightd_has_available_keys</th>\n",
       "      <th>is_charging</th>\n",
       "    </tr>\n",
       "  </thead>\n",
       "  <tbody>\n",
       "    <tr>\n",
       "      <th>0</th>\n",
       "      <td>1</td>\n",
       "      <td>23</td>\n",
       "      <td>1</td>\n",
       "      <td>15</td>\n",
       "      <td>0</td>\n",
       "      <td>1</td>\n",
       "      <td>1</td>\n",
       "      <td>1</td>\n",
       "      <td>1741308294</td>\n",
       "      <td>False</td>\n",
       "      <td>False</td>\n",
       "    </tr>\n",
       "    <tr>\n",
       "      <th>1</th>\n",
       "      <td>5</td>\n",
       "      <td>2</td>\n",
       "      <td>1</td>\n",
       "      <td>16</td>\n",
       "      <td>0</td>\n",
       "      <td>1</td>\n",
       "      <td>1</td>\n",
       "      <td>1</td>\n",
       "      <td>1741306719</td>\n",
       "      <td>False</td>\n",
       "      <td>False</td>\n",
       "    </tr>\n",
       "    <tr>\n",
       "      <th>2</th>\n",
       "      <td>6</td>\n",
       "      <td>1</td>\n",
       "      <td>2</td>\n",
       "      <td>24</td>\n",
       "      <td>0</td>\n",
       "      <td>1</td>\n",
       "      <td>1</td>\n",
       "      <td>1</td>\n",
       "      <td>1741308614</td>\n",
       "      <td>False</td>\n",
       "      <td>False</td>\n",
       "    </tr>\n",
       "    <tr>\n",
       "      <th>3</th>\n",
       "      <td>7</td>\n",
       "      <td>3</td>\n",
       "      <td>0</td>\n",
       "      <td>16</td>\n",
       "      <td>0</td>\n",
       "      <td>1</td>\n",
       "      <td>1</td>\n",
       "      <td>1</td>\n",
       "      <td>1741308676</td>\n",
       "      <td>False</td>\n",
       "      <td>False</td>\n",
       "    </tr>\n",
       "    <tr>\n",
       "      <th>4</th>\n",
       "      <td>711</td>\n",
       "      <td>0</td>\n",
       "      <td>0</td>\n",
       "      <td>0</td>\n",
       "      <td>0</td>\n",
       "      <td>0</td>\n",
       "      <td>1</td>\n",
       "      <td>1</td>\n",
       "      <td>86400</td>\n",
       "      <td>False</td>\n",
       "      <td>False</td>\n",
       "    </tr>\n",
       "  </tbody>\n",
       "</table>\n",
       "</div>"
      ],
      "text/plain": [
       "  station_id  num_bikes_available  num_bikes_disabled  num_docks_available  \\\n",
       "0          1                   23                   1                   15   \n",
       "1          5                    2                   1                   16   \n",
       "2          6                    1                   2                   24   \n",
       "3          7                    3                   0                   16   \n",
       "4        711                    0                   0                    0   \n",
       "\n",
       "   num_docks_disabled  is_installed  is_renting  is_returning  last_reported  \\\n",
       "0                   0             1           1             1     1741308294   \n",
       "1                   0             1           1             1     1741306719   \n",
       "2                   0             1           1             1     1741308614   \n",
       "3                   0             1           1             1     1741308676   \n",
       "4                   0             0           1             1          86400   \n",
       "\n",
       "   eightd_has_available_keys  is_charging  \n",
       "0                      False        False  \n",
       "1                      False        False  \n",
       "2                      False        False  \n",
       "3                      False        False  \n",
       "4                      False        False  "
      ]
     },
     "execution_count": 10,
     "metadata": {},
     "output_type": "execute_result"
    }
   ],
   "source": [
    "df.head(10)\n"
   ]
  },
  {
   "cell_type": "code",
   "execution_count": 10,
   "metadata": {},
   "outputs": [],
   "source": [
    "import pandas as pd"
   ]
  },
  {
   "cell_type": "code",
   "execution_count": 9,
   "metadata": {},
   "outputs": [],
   "source": [
    "datos = pd.read_csv('2025-01.csv')"
   ]
  },
  {
   "cell_type": "code",
   "execution_count": 11,
   "metadata": {},
   "outputs": [
    {
     "data": {
      "text/html": [
       "<div>\n",
       "<style scoped>\n",
       "    .dataframe tbody tr th:only-of-type {\n",
       "        vertical-align: middle;\n",
       "    }\n",
       "\n",
       "    .dataframe tbody tr th {\n",
       "        vertical-align: top;\n",
       "    }\n",
       "\n",
       "    .dataframe thead th {\n",
       "        text-align: right;\n",
       "    }\n",
       "</style>\n",
       "<table border=\"1\" class=\"dataframe\">\n",
       "  <thead>\n",
       "    <tr style=\"text-align: right;\">\n",
       "      <th></th>\n",
       "      <th>Genero_Usuario</th>\n",
       "      <th>Edad_Usuario</th>\n",
       "      <th>Bici</th>\n",
       "      <th>Ciclo_Estacion_Retiro</th>\n",
       "      <th>Fecha_Retiro</th>\n",
       "      <th>Hora_Retiro</th>\n",
       "      <th>Ciclo_EstacionArribo</th>\n",
       "      <th>Fecha_Arribo</th>\n",
       "      <th>Hora_Arribo</th>\n",
       "    </tr>\n",
       "  </thead>\n",
       "  <tbody>\n",
       "    <tr>\n",
       "      <th>0</th>\n",
       "      <td>M</td>\n",
       "      <td>26.0</td>\n",
       "      <td>5180930</td>\n",
       "      <td>568</td>\n",
       "      <td>31/12/2024</td>\n",
       "      <td>23:57:02</td>\n",
       "      <td>572</td>\n",
       "      <td>01/01/2025</td>\n",
       "      <td>00:00:03</td>\n",
       "    </tr>\n",
       "    <tr>\n",
       "      <th>1</th>\n",
       "      <td>F</td>\n",
       "      <td>54.0</td>\n",
       "      <td>3653953</td>\n",
       "      <td>283</td>\n",
       "      <td>31/12/2024</td>\n",
       "      <td>23:51:40</td>\n",
       "      <td>596</td>\n",
       "      <td>01/01/2025</td>\n",
       "      <td>00:00:41</td>\n",
       "    </tr>\n",
       "    <tr>\n",
       "      <th>2</th>\n",
       "      <td>M</td>\n",
       "      <td>38.0</td>\n",
       "      <td>7511322</td>\n",
       "      <td>034</td>\n",
       "      <td>31/12/2024</td>\n",
       "      <td>23:48:36</td>\n",
       "      <td>064</td>\n",
       "      <td>01/01/2025</td>\n",
       "      <td>00:00:59</td>\n",
       "    </tr>\n",
       "    <tr>\n",
       "      <th>3</th>\n",
       "      <td>M</td>\n",
       "      <td>41.0</td>\n",
       "      <td>3804572</td>\n",
       "      <td>258</td>\n",
       "      <td>31/12/2024</td>\n",
       "      <td>23:54:11</td>\n",
       "      <td>023</td>\n",
       "      <td>01/01/2025</td>\n",
       "      <td>00:01:08</td>\n",
       "    </tr>\n",
       "    <tr>\n",
       "      <th>4</th>\n",
       "      <td>M</td>\n",
       "      <td>35.0</td>\n",
       "      <td>3848405</td>\n",
       "      <td>043</td>\n",
       "      <td>31/12/2024</td>\n",
       "      <td>23:35:28</td>\n",
       "      <td>126</td>\n",
       "      <td>01/01/2025</td>\n",
       "      <td>00:01:17</td>\n",
       "    </tr>\n",
       "  </tbody>\n",
       "</table>\n",
       "</div>"
      ],
      "text/plain": [
       "  Genero_Usuario  Edad_Usuario     Bici Ciclo_Estacion_Retiro Fecha_Retiro  \\\n",
       "0              M          26.0  5180930                   568   31/12/2024   \n",
       "1              F          54.0  3653953                   283   31/12/2024   \n",
       "2              M          38.0  7511322                   034   31/12/2024   \n",
       "3              M          41.0  3804572                   258   31/12/2024   \n",
       "4              M          35.0  3848405                   043   31/12/2024   \n",
       "\n",
       "  Hora_Retiro Ciclo_EstacionArribo Fecha_Arribo Hora_Arribo  \n",
       "0    23:57:02                  572   01/01/2025    00:00:03  \n",
       "1    23:51:40                  596   01/01/2025    00:00:41  \n",
       "2    23:48:36                  064   01/01/2025    00:00:59  \n",
       "3    23:54:11                  023   01/01/2025    00:01:08  \n",
       "4    23:35:28                  126   01/01/2025    00:01:17  "
      ]
     },
     "execution_count": 11,
     "metadata": {},
     "output_type": "execute_result"
    }
   ],
   "source": [
    "datos.head()"
   ]
  },
  {
   "cell_type": "code",
   "execution_count": 17,
   "metadata": {},
   "outputs": [
    {
     "data": {
      "text/plain": [
       "array(['M', 'F', 'O', '?', nan], dtype=object)"
      ]
     },
     "execution_count": 17,
     "metadata": {},
     "output_type": "execute_result"
    }
   ],
   "source": [
    "datos.Genero_Usuario.unique()"
   ]
  },
  {
   "cell_type": "code",
   "execution_count": 14,
   "metadata": {},
   "outputs": [
    {
     "data": {
      "text/plain": [
       "Genero_Usuario             1\n",
       "Edad_Usuario             147\n",
       "Bici                       0\n",
       "Ciclo_Estacion_Retiro      0\n",
       "Fecha_Retiro               0\n",
       "Hora_Retiro                0\n",
       "Ciclo_EstacionArribo       0\n",
       "Fecha_Arribo               0\n",
       "Hora_Arribo                0\n",
       "dtype: int64"
      ]
     },
     "execution_count": 14,
     "metadata": {},
     "output_type": "execute_result"
    }
   ],
   "source": [
    "datos.isnull().sum()"
   ]
  },
  {
   "cell_type": "code",
   "execution_count": 12,
   "metadata": {},
   "outputs": [
    {
     "data": {
      "text/plain": [
       "Bici\n",
       "8537367    467\n",
       "5883434    466\n",
       "8003600    462\n",
       "7278658    462\n",
       "6203087    460\n",
       "          ... \n",
       "3710266      1\n",
       "7625809      1\n",
       "6556245      1\n",
       "3374865      1\n",
       "8336364      1\n",
       "Length: 7500, dtype: int64"
      ]
     },
     "execution_count": 12,
     "metadata": {},
     "output_type": "execute_result"
    }
   ],
   "source": [
    "datos.groupby('Bici').size().sort_values(ascending=False)\n"
   ]
  },
  {
   "cell_type": "code",
   "execution_count": 13,
   "metadata": {},
   "outputs": [
    {
     "data": {
      "text/plain": [
       "Ciclo_Estacion_Retiro\n",
       "271-272    13283\n",
       "548        11987\n",
       "107-108    10586\n",
       "064        10231\n",
       "027         9922\n",
       "           ...  \n",
       "664          479\n",
       "707          469\n",
       "665          445\n",
       "687          432\n",
       "662          398\n",
       "Length: 677, dtype: int64"
      ]
     },
     "execution_count": 13,
     "metadata": {},
     "output_type": "execute_result"
    }
   ],
   "source": [
    "datos.groupby('Ciclo_Estacion_Retiro').size().sort_values(ascending=False)\n"
   ]
  },
  {
   "cell_type": "code",
   "execution_count": null,
   "metadata": {},
   "outputs": [],
   "source": []
  }
 ],
 "metadata": {
  "kernelspec": {
   "display_name": "dataeng",
   "language": "python",
   "name": "python3"
  },
  "language_info": {
   "codemirror_mode": {
    "name": "ipython",
    "version": 3
   },
   "file_extension": ".py",
   "mimetype": "text/x-python",
   "name": "python",
   "nbconvert_exporter": "python",
   "pygments_lexer": "ipython3",
   "version": "3.9.21"
  }
 },
 "nbformat": 4,
 "nbformat_minor": 2
}
